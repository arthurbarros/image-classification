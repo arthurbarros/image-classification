{
 "cells": [
  {
   "cell_type": "markdown",
   "metadata": {
    "collapsed": true
   },
   "source": [
    "# Image Classification\n",
    "In this project, you'll classify images from the [CIFAR-10 dataset](https://www.cs.toronto.edu/~kriz/cifar.html).  The dataset consists of airplanes, dogs, cats, and other objects. You'll preprocess the images, then train a convolutional neural network on all the samples. The images need to be normalized and the labels need to be one-hot encoded.  You'll get to apply what you learned and build a convolutional, max pooling, dropout, and fully connected layers.  At the end, you'll get to see your neural network's predictions on the sample images.\n",
    "## Get the Data\n",
    "Run the following cell to download the [CIFAR-10 dataset for python](https://www.cs.toronto.edu/~kriz/cifar-10-python.tar.gz)."
   ]
  },
  {
   "cell_type": "code",
   "execution_count": 1,
   "metadata": {},
   "outputs": [
    {
     "name": "stdout",
     "output_type": "stream",
     "text": [
      "All files found!\n"
     ]
    }
   ],
   "source": [
    "\"\"\"\n",
    "DON'T MODIFY ANYTHING IN THIS CELL THAT IS BELOW THIS LINE\n",
    "\"\"\"\n",
    "from urllib.request import urlretrieve\n",
    "from os.path import isfile, isdir\n",
    "from tqdm import tqdm\n",
    "import problem_unittests as tests\n",
    "import tarfile\n",
    "\n",
    "cifar10_dataset_folder_path = 'cifar-10-batches-py'\n",
    "\n",
    "# Use Floyd's cifar-10 dataset if present\n",
    "floyd_cifar10_location = '/cifar/cifar-10-python.tar.gz'\n",
    "if isfile(floyd_cifar10_location):\n",
    "    tar_gz_path = floyd_cifar10_location\n",
    "else:\n",
    "    tar_gz_path = 'cifar-10-python.tar.gz'\n",
    "\n",
    "class DLProgress(tqdm):\n",
    "    last_block = 0\n",
    "\n",
    "    def hook(self, block_num=1, block_size=1, total_size=None):\n",
    "        self.total = total_size\n",
    "        self.update((block_num - self.last_block) * block_size)\n",
    "        self.last_block = block_num\n",
    "\n",
    "if not isfile(tar_gz_path):\n",
    "    with DLProgress(unit='B', unit_scale=True, miniters=1, desc='CIFAR-10 Dataset') as pbar:\n",
    "        urlretrieve(\n",
    "            'https://www.cs.toronto.edu/~kriz/cifar-10-python.tar.gz',\n",
    "            tar_gz_path,\n",
    "            pbar.hook)\n",
    "\n",
    "if not isdir(cifar10_dataset_folder_path):\n",
    "    with tarfile.open(tar_gz_path) as tar:\n",
    "        tar.extractall()\n",
    "        tar.close()\n",
    "\n",
    "\n",
    "tests.test_folder_path(cifar10_dataset_folder_path)"
   ]
  },
  {
   "cell_type": "markdown",
   "metadata": {},
   "source": [
    "## Explore the Data\n",
    "The dataset is broken into batches to prevent your machine from running out of memory.  The CIFAR-10 dataset consists of 5 batches, named `data_batch_1`, `data_batch_2`, etc.. Each batch contains the labels and images that are one of the following:\n",
    "* airplane\n",
    "* automobile\n",
    "* bird\n",
    "* cat\n",
    "* deer\n",
    "* dog\n",
    "* frog\n",
    "* horse\n",
    "* ship\n",
    "* truck\n",
    "\n",
    "Understanding a dataset is part of making predictions on the data.  Play around with the code cell below by changing the `batch_id` and `sample_id`. The `batch_id` is the id for a batch (1-5). The `sample_id` is the id for a image and label pair in the batch.\n",
    "\n",
    "Ask yourself \"What are all possible labels?\", \"What is the range of values for the image data?\", \"Are the labels in order or random?\".  Answers to questions like these will help you preprocess the data and end up with better predictions."
   ]
  },
  {
   "cell_type": "code",
   "execution_count": 2,
   "metadata": {},
   "outputs": [
    {
     "name": "stdout",
     "output_type": "stream",
     "text": [
      "\n",
      "Stats of batch 1:\n",
      "Samples: 10000\n",
      "Label Counts: {0: 1005, 1: 974, 2: 1032, 3: 1016, 4: 999, 5: 937, 6: 1030, 7: 1001, 8: 1025, 9: 981}\n",
      "First 20 Labels: [6, 9, 9, 4, 1, 1, 2, 7, 8, 3, 4, 7, 7, 2, 9, 9, 9, 3, 2, 6]\n",
      "\n",
      "Example of Image 5:\n",
      "Image - Min Value: 0 Max Value: 252\n",
      "Image - Shape: (32, 32, 3)\n",
      "Label - Label Id: 1 Name: automobile\n"
     ]
    },
    {
     "data": {
      "image/png": "[encoded data removed]",
      "text/plain": [
       "<matplotlib.figure.Figure at 0x7fae94acdf28>"
      ]
     },
     "metadata": {
      "image/png": {
       "height": 250,
       "width": 253
      }
     },
     "output_type": "display_data"
    }
   ],
   "source": [
    "%matplotlib inline\n",
    "%config InlineBackend.figure_format = 'retina'\n",
    "\n",
    "import helper\n",
    "import numpy as np\n",
    "\n",
    "# Explore the dataset\n",
    "batch_id = 1\n",
    "sample_id = 5\n",
    "helper.display_stats(cifar10_dataset_folder_path, batch_id, sample_id)"
   ]
  },
  {
   "cell_type": "markdown",
   "metadata": {},
   "source": [
    "## Implement Preprocess Functions\n",
    "### Normalize\n",
    "In the cell below, implement the `normalize` function to take in image data, `x`, and return it as a normalized Numpy array. The values should be in the range of 0 to 1, inclusive.  The return object should be the same shape as `x`."
   ]
  },
  {
   "cell_type": "code",
   "execution_count": 3,
   "metadata": {},
   "outputs": [
    {
     "name": "stdout",
     "output_type": "stream",
     "text": [
      "Tests Passed\n"
     ]
    }
   ],
   "source": [
    "def normalize(x):\n",
    "    \"\"\"\n",
    "    Normalize a list of sample image data in the range of 0 to 1\n",
    "    : x: List of image data.  The image shape is (32, 32, 3)\n",
    "    : return: Numpy array of normalize data\n",
    "    \"\"\"\n",
    "    # TODO: Implement Function\n",
    "    # (x - min(x)) / (max(x) - min(x))\n",
    "    return np.divide(np.subtract(x, np.min(x)), (np.subtract(np.max(x), np.min(x))))\n",
    "\n",
    "\n",
    "\"\"\"\n",
    "DON'T MODIFY ANYTHING IN THIS CELL THAT IS BELOW THIS LINE\n",
    "\"\"\"\n",
    "tests.test_normalize(normalize)"
   ]
  },
  {
   "cell_type": "markdown",
   "metadata": {},
   "source": [
    "### One-hot encode\n",
    "Just like the previous code cell, you'll be implementing a function for preprocessing.  This time, you'll implement the `one_hot_encode` function. The input, `x`, are a list of labels.  Implement the function to return the list of labels as One-Hot encoded Numpy array.  The possible values for labels are 0 to 9. The one-hot encoding function should return the same encoding for each value between each call to `one_hot_encode`.  Make sure to save the map of encodings outside the function.\n",
    "\n",
    "Hint: Don't reinvent the wheel."
   ]
  },
  {
   "cell_type": "code",
   "execution_count": 4,
   "metadata": {},
   "outputs": [
    {
     "name": "stdout",
     "output_type": "stream",
     "text": [
      "Tests Passed\n"
     ]
    }
   ],
   "source": [
    "def one_hot_encode(x):\n",
    "    \"\"\"\n",
    "    One hot encode a list of sample labels. Return a one-hot encoded vector for each label.\n",
    "    : x: List of sample Labels\n",
    "    : return: Numpy array of one-hot encoded labels\n",
    "    \"\"\"\n",
    "    # TODO: Implement Function\n",
    "    # since the labels goes from 0 to 9\n",
    "    \n",
    "    labels_size = 10 \n",
    "    return np.eye(labels_size)[x]\n",
    "\n",
    "    # another way to achieve the same as np.eye would be\n",
    "    \n",
    "    # features_size = len(x)\n",
    "    # result = np.zeros(shape=(features_size, labels_size))\n",
    "    # for index in range(features_size):\n",
    "    #    result[index, x[index]] = 1\n",
    "    # return result\n",
    "    \n",
    "    # but IMO the first one is more elegant\n",
    "\n",
    "\"\"\"\n",
    "DON'T MODIFY ANYTHING IN THIS CELL THAT IS BELOW THIS LINE\n",
    "\"\"\"\n",
    "tests.test_one_hot_encode(one_hot_encode)"
   ]
  },
  {
   "cell_type": "markdown",
   "metadata": {},
   "source": [
    "### Randomize Data\n",
    "As you saw from exploring the data above, the order of the samples are randomized.  It doesn't hurt to randomize it again, but you don't need to for this dataset."
   ]
  },
  {
   "cell_type": "markdown",
   "metadata": {},
   "source": [
    "## Preprocess all the data and save it\n",
    "Running the code cell below will preprocess all the CIFAR-10 data and save it to file. The code below also uses 10% of the training data for validation."
   ]
  },
  {
   "cell_type": "code",
   "execution_count": 5,
   "metadata": {
    "collapsed": true
   },
   "outputs": [],
   "source": [
    "\"\"\"\n",
    "DON'T MODIFY ANYTHING IN THIS CELL\n",
    "\"\"\"\n",
    "# Preprocess Training, Validation, and Testing Data\n",
    "helper.preprocess_and_save_data(cifar10_dataset_folder_path, normalize, one_hot_encode)"
   ]
  },
  {
   "cell_type": "markdown",
   "metadata": {},
   "source": [
    "# Check Point\n",
    "This is your first checkpoint.  If you ever decide to come back to this notebook or have to restart the notebook, you can start from here.  The preprocessed data has been saved to disk."
   ]
  },
  {
   "cell_type": "code",
   "execution_count": 6,
   "metadata": {
    "collapsed": true
   },
   "outputs": [],
   "source": [
    "\"\"\"\n",
    "DON'T MODIFY ANYTHING IN THIS CELL\n",
    "\"\"\"\n",
    "import pickle\n",
    "import problem_unittests as tests\n",
    "import helper\n",
    "\n",
    "# Load the Preprocessed Validation data\n",
    "valid_features, valid_labels = pickle.load(open('preprocess_validation.p', mode='rb'))"
   ]
  },
  {
   "cell_type": "markdown",
   "metadata": {},
   "source": [
    "## Build the network\n",
    "For the neural network, you'll build each layer into a function.  Most of the code you've seen has been outside of functions. To test your code more thoroughly, we require that you put each layer in a function.  This allows us to give you better feedback and test for simple mistakes using our unittests before you submit your project.\n",
    "\n",
    ">**Note:** If you're finding it hard to dedicate enough time for this course each week, we've provided a small shortcut to this part of the project. In the next couple of problems, you'll have the option to use classes from the [TensorFlow Layers](https://www.tensorflow.org/api_docs/python/tf/layers) or [TensorFlow Layers (contrib)](https://www.tensorflow.org/api_guides/python/contrib.layers) packages to build each layer, except the layers you build in the \"Convolutional and Max Pooling Layer\" section.  TF Layers is similar to Keras's and TFLearn's abstraction to layers, so it's easy to pickup.\n",
    "\n",
    ">However, if you would like to get the most out of this course, try to solve all the problems _without_ using anything from the TF Layers packages. You **can** still use classes from other packages that happen to have the same name as ones you find in TF Layers! For example, instead of using the TF Layers version of the `conv2d` class, [tf.layers.conv2d](https://www.tensorflow.org/api_docs/python/tf/layers/conv2d), you would want to use the TF Neural Network version of `conv2d`, [tf.nn.conv2d](https://www.tensorflow.org/api_docs/python/tf/nn/conv2d). \n",
    "\n",
    "Let's begin!\n",
    "\n",
    "### Input\n",
    "The neural network needs to read the image data, one-hot encoded labels, and dropout keep probability. Implement the following functions\n",
    "* Implement `neural_net_image_input`\n",
    " * Return a [TF Placeholder](https://www.tensorflow.org/api_docs/python/tf/placeholder)\n",
    " * Set the shape using `image_shape` with batch size set to `None`.\n",
    " * Name the TensorFlow placeholder \"x\" using the TensorFlow `name` parameter in the [TF Placeholder](https://www.tensorflow.org/api_docs/python/tf/placeholder).\n",
    "* Implement `neural_net_label_input`\n",
    " * Return a [TF Placeholder](https://www.tensorflow.org/api_docs/python/tf/placeholder)\n",
    " * Set the shape using `n_classes` with batch size set to `None`.\n",
    " * Name the TensorFlow placeholder \"y\" using the TensorFlow `name` parameter in the [TF Placeholder](https://www.tensorflow.org/api_docs/python/tf/placeholder).\n",
    "* Implement `neural_net_keep_prob_input`\n",
    " * Return a [TF Placeholder](https://www.tensorflow.org/api_docs/python/tf/placeholder) for dropout keep probability.\n",
    " * Name the TensorFlow placeholder \"keep_prob\" using the TensorFlow `name` parameter in the [TF Placeholder](https://www.tensorflow.org/api_docs/python/tf/placeholder).\n",
    "\n",
    "These names will be used at the end of the project to load your saved model.\n",
    "\n",
    "Note: `None` for shapes in TensorFlow allow for a dynamic size."
   ]
  },
  {
   "cell_type": "code",
   "execution_count": 7,
   "metadata": {},
   "outputs": [
    {
     "name": "stdout",
     "output_type": "stream",
     "text": [
      "Image Input Tests Passed.\n",
      "Label Input Tests Passed.\n",
      "Keep Prob Tests Passed.\n"
     ]
    }
   ],
   "source": [
    "import tensorflow as tf\n",
    "\n",
    "def neural_net_image_input(image_shape):\n",
    "    \"\"\"\n",
    "    Return a Tensor for a batch of image input\n",
    "    : image_shape: Shape of the images\n",
    "    : return: Tensor for image input.\n",
    "    \"\"\"\n",
    "    # TODO: Implement Function\n",
    "    # we can do it in the \"pythonic way\" using args to extract the values\n",
    "    # from image_shape, which is so beautiful to see, IMO.\n",
    "    \n",
    "    return tf.placeholder(tf.float32, shape=(None, *image_shape), name='x')\n",
    "    \n",
    "\n",
    "def neural_net_label_input(n_classes):\n",
    "    \"\"\"\n",
    "    Return a Tensor for a batch of label input\n",
    "    : n_classes: Number of classes\n",
    "    : return: Tensor for label input.\n",
    "    \"\"\"\n",
    "    # TODO: Implement Function\n",
    "    return tf.placeholder(tf.float32, shape=[None, n_classes], name='y')\n",
    "\n",
    "\n",
    "def neural_net_keep_prob_input():\n",
    "    \"\"\"\n",
    "    Return a Tensor for keep probability\n",
    "    : return: Tensor for keep probability.\n",
    "    \"\"\"\n",
    "    # TODO: Implement Function\n",
    "    return tf.placeholder(dtype=tf.float32, name=\"keep_prob\")\n",
    "\n",
    "\n",
    "\"\"\"\n",
    "DON'T MODIFY ANYTHING IN THIS CELL THAT IS BELOW THIS LINE\n",
    "\"\"\"\n",
    "tf.reset_default_graph()\n",
    "tests.test_nn_image_inputs(neural_net_image_input)\n",
    "tests.test_nn_label_inputs(neural_net_label_input)\n",
    "tests.test_nn_keep_prob_inputs(neural_net_keep_prob_input)"
   ]
  },
  {
   "cell_type": "markdown",
   "metadata": {},
   "source": [
    "### Convolution and Max Pooling Layer\n",
    "Convolution layers have a lot of success with images. For this code cell, you should implement the function `conv2d_maxpool` to apply convolution then max pooling:\n",
    "* Create the weight and bias using `conv_ksize`, `conv_num_outputs` and the shape of `x_tensor`.\n",
    "* Apply a convolution to `x_tensor` using weight and `conv_strides`.\n",
    " * We recommend you use same padding, but you're welcome to use any padding.\n",
    "* Add bias\n",
    "* Add a nonlinear activation to the convolution.\n",
    "* Apply Max Pooling using `pool_ksize` and `pool_strides`.\n",
    " * We recommend you use same padding, but you're welcome to use any padding.\n",
    "\n",
    "**Note:** You **can't** use [TensorFlow Layers](https://www.tensorflow.org/api_docs/python/tf/layers) or [TensorFlow Layers (contrib)](https://www.tensorflow.org/api_guides/python/contrib.layers) for **this** layer, but you can still use TensorFlow's [Neural Network](https://www.tensorflow.org/api_docs/python/tf/nn) package. You may still use the shortcut option for all the **other** layers."
   ]
  },
  {
   "cell_type": "code",
   "execution_count": 8,
   "metadata": {},
   "outputs": [
    {
     "name": "stdout",
     "output_type": "stream",
     "text": [
      "Tests Passed\n"
     ]
    }
   ],
   "source": [
    "from math import sqrt\n",
    "\n",
    "def conv2d_maxpool(x_tensor, conv_num_outputs, conv_ksize, conv_strides, pool_ksize, pool_strides):\n",
    "    \"\"\"\n",
    "    Apply convolution then max pooling to x_tensor\n",
    "    :param x_tensor: TensorFlow Tensor\n",
    "    :param conv_num_outputs: Number of outputs for the convolutional layer\n",
    "    :param conv_ksize: kernal size 2-D Tuple for the convolutional layer\n",
    "    :param conv_strides: Stride 2-D Tuple for convolution\n",
    "    :param pool_ksize: kernal size 2-D Tuple for pool\n",
    "    :param pool_strides: Stride 2-D Tuple for pool\n",
    "    : return: A tensor that represents convolution and max pooling of x_tensor\n",
    "    \"\"\"\n",
    "    # TODO: Implement Function\n",
    "    \n",
    "    shape = x_tensor.get_shape().as_list()\n",
    "    size = (conv_ksize[0], conv_ksize[1], shape[3], conv_num_outputs)\n",
    "    \n",
    "    B = tf.Variable(tf.zeros(conv_num_outputs))\n",
    "    W = tf.Variable(tf.truncated_normal(size, 0, (1 / sqrt(shape[1] * shape[2] * shape[3]))))\n",
    "    \n",
    "    conv = tf.nn.conv2d(x_tensor, W, [1, conv_strides[0], conv_strides[1], 1], 'SAME')\n",
    "    conv = tf.nn.bias_add(conv, B)\n",
    "    conv = tf.nn.relu(conv)\n",
    "    \n",
    "    # max-pooling\n",
    "    padding = 'SAME'\n",
    "    k_size = [1, pool_ksize[0], pool_ksize[1], 1]\n",
    "    strides = [1, pool_strides[0], pool_strides[1], 1]\n",
    "    \n",
    "    return tf.nn.max_pool(conv, ksize=k_size, strides=strides, padding=padding)\n",
    "\n",
    "\n",
    "\"\"\"\n",
    "DON'T MODIFY ANYTHING IN THIS CELL THAT IS BELOW THIS LINE\n",
    "\"\"\"\n",
    "tests.test_con_pool(conv2d_maxpool)"
   ]
  },
  {
   "cell_type": "markdown",
   "metadata": {},
   "source": [
    "### Flatten Layer\n",
    "Implement the `flatten` function to change the dimension of `x_tensor` from a 4-D tensor to a 2-D tensor.  The output should be the shape (*Batch Size*, *Flattened Image Size*). Shortcut option: you can use classes from the [TensorFlow Layers](https://www.tensorflow.org/api_docs/python/tf/layers) or [TensorFlow Layers (contrib)](https://www.tensorflow.org/api_guides/python/contrib.layers) packages for this layer. For more of a challenge, only use other TensorFlow packages."
   ]
  },
  {
   "cell_type": "code",
   "execution_count": 9,
   "metadata": {},
   "outputs": [
    {
     "name": "stdout",
     "output_type": "stream",
     "text": [
      "Tests Passed\n"
     ]
    }
   ],
   "source": [
    "def flatten(x_tensor):\n",
    "    \"\"\"\n",
    "    Flatten x_tensor to (Batch Size, Flattened Image Size)\n",
    "    : x_tensor: A tensor of size (Batch Size, ...), where ... are the image dimensions.\n",
    "    : return: A tensor of size (Batch Size, Flattened Image Size).\n",
    "    \"\"\"\n",
    "    # TODO: Implement Function\n",
    "    \n",
    "    shape = x_tensor.get_shape().as_list() \n",
    "    size = shape[1] * shape[2] * shape[3]\n",
    "    \n",
    "    return tf.reshape(x_tensor, [-1, size])\n",
    "\n",
    "    # or we could go the easy way\n",
    "    # return tf.contrib.layers.flatten(x_tensor)\n",
    "\n",
    "\n",
    "\"\"\"\n",
    "DON'T MODIFY ANYTHING IN THIS CELL THAT IS BELOW THIS LINE\n",
    "\"\"\"\n",
    "tests.test_flatten(flatten)"
   ]
  },
  {
   "cell_type": "markdown",
   "metadata": {},
   "source": [
    "### Fully-Connected Layer\n",
    "Implement the `fully_conn` function to apply a fully connected layer to `x_tensor` with the shape (*Batch Size*, *num_outputs*). Shortcut option: you can use classes from the [TensorFlow Layers](https://www.tensorflow.org/api_docs/python/tf/layers) or [TensorFlow Layers (contrib)](https://www.tensorflow.org/api_guides/python/contrib.layers) packages for this layer. For more of a challenge, only use other TensorFlow packages."
   ]
  },
  {
   "cell_type": "code",
   "execution_count": 10,
   "metadata": {},
   "outputs": [
    {
     "name": "stdout",
     "output_type": "stream",
     "text": [
      "Tests Passed\n"
     ]
    }
   ],
   "source": [
    "def fully_conn(x_tensor, num_outputs):\n",
    "    \"\"\"\n",
    "    Apply a fully connected layer to x_tensor using weight and bias\n",
    "    : x_tensor: A 2-D tensor where the first dimension is batch size.\n",
    "    : num_outputs: The number of output that the new tensor should be.\n",
    "    : return: A 2-D tensor where the second dimension is num_outputs.\n",
    "    \"\"\"\n",
    "    # TODO: Implement Function\n",
    "    \n",
    "    shape = x_tensor.get_shape().as_list() \n",
    "    W = tf.Variable(tf.truncated_normal([shape[1], num_outputs], mean=0.0, stddev=0.01))\n",
    "    B = tf.Variable(tf.zeros(num_outputs))\n",
    "    \n",
    "    x_tensor = tf.add(tf.matmul(x_tensor, W), B)\n",
    "    \n",
    "    return tf.nn.relu(x_tensor)\n",
    "\n",
    "\n",
    "\"\"\"\n",
    "DON'T MODIFY ANYTHING IN THIS CELL THAT IS BELOW THIS LINE\n",
    "\"\"\"\n",
    "tests.test_fully_conn(fully_conn)"
   ]
  },
  {
   "cell_type": "markdown",
   "metadata": {},
   "source": [
    "### Output Layer\n",
    "Implement the `output` function to apply a fully connected layer to `x_tensor` with the shape (*Batch Size*, *num_outputs*). Shortcut option: you can use classes from the [TensorFlow Layers](https://www.tensorflow.org/api_docs/python/tf/layers) or [TensorFlow Layers (contrib)](https://www.tensorflow.org/api_guides/python/contrib.layers) packages for this layer. For more of a challenge, only use other TensorFlow packages.\n",
    "\n",
    "**Note:** Activation, softmax, or cross entropy should **not** be applied to this."
   ]
  },
  {
   "cell_type": "code",
   "execution_count": 11,
   "metadata": {},
   "outputs": [
    {
     "name": "stdout",
     "output_type": "stream",
     "text": [
      "Tests Passed\n"
     ]
    }
   ],
   "source": [
    "def output(x_tensor, num_outputs):\n",
    "    \"\"\"\n",
    "    Apply a output layer to x_tensor using weight and bias\n",
    "    : x_tensor: A 2-D tensor where the first dimension is batch size.\n",
    "    : num_outputs: The number of output that the new tensor should be.\n",
    "    : return: A 2-D tensor where the second dimension is num_outputs.\n",
    "    \"\"\"\n",
    "    # TODO: Implement Function\n",
    "    shape = x_tensor.get_shape().as_list() \n",
    "    W = tf.Variable(tf.truncated_normal([shape[1], num_outputs], mean=0.0, stddev=0.01))\n",
    "    B = tf.Variable(tf.zeros(num_outputs))\n",
    "    \n",
    "    x_tensor = tf.add(tf.matmul(x_tensor, W), B)\n",
    "    \n",
    "    return x_tensor\n",
    "\n",
    "\n",
    "\"\"\"\n",
    "DON'T MODIFY ANYTHING IN THIS CELL THAT IS BELOW THIS LINE\n",
    "\"\"\"\n",
    "tests.test_output(output)"
   ]
  },
  {
   "cell_type": "markdown",
   "metadata": {},
   "source": [
    "### Create Convolutional Model\n",
    "Implement the function `conv_net` to create a convolutional neural network model. The function takes in a batch of images, `x`, and outputs logits.  Use the layers you created above to create this model:\n",
    "\n",
    "* Apply 1, 2, or 3 Convolution and Max Pool layers\n",
    "* Apply a Flatten Layer\n",
    "* Apply 1, 2, or 3 Fully Connected Layers\n",
    "* Apply an Output Layer\n",
    "* Return the output\n",
    "* Apply [TensorFlow's Dropout](https://www.tensorflow.org/api_docs/python/tf/nn/dropout) to one or more layers in the model using `keep_prob`. "
   ]
  },
  {
   "cell_type": "code",
   "execution_count": 12,
   "metadata": {},
   "outputs": [
    {
     "name": "stdout",
     "output_type": "stream",
     "text": [
      "Neural Network Built!\n"
     ]
    }
   ],
   "source": [
    "def conv_net(x, keep_prob):\n",
    "    \"\"\"\n",
    "    Create a convolutional neural network model\n",
    "    : x: Placeholder tensor that holds image data.\n",
    "    : keep_prob: Placeholder tensor that hold dropout keep probability.\n",
    "    : return: Tensor that represents logits\n",
    "    \"\"\"\n",
    "    \n",
    "    conv_num_outputs = 256\n",
    "    conv_ksize = (16, 16)\n",
    "    conv_strides = (2,2)\n",
    "    pool_ksize = (4,4)\n",
    "    pool_strides = (1,1)\n",
    "    num_outputs = 10\n",
    "    num_outputs_fully = 64\n",
    "    \n",
    "    # TODO: Apply 1, 2, or 3 Convolution and Max Pool layers\n",
    "    #    Play around with different number of outputs, kernel size and stride\n",
    "    # Function Definition from Above:\n",
    "    #    conv2d_maxpool(x_tensor, conv_num_outputs, conv_ksize, conv_strides, pool_ksize, pool_strides)\n",
    "    x_tensor = conv2d_maxpool(x, conv_num_outputs, conv_ksize, conv_strides, pool_ksize, pool_strides)\n",
    "    \n",
    "\n",
    "    # TODO: Apply a Flatten Layer\n",
    "    # Function Definition from Above:\n",
    "    #   flatten(x_tensor)\n",
    "    x_tensor = flatten(x_tensor)\n",
    "    \n",
    "\n",
    "    # TODO: Apply 1, 2, or 3 Fully Connected Layers\n",
    "    #    Play around with different number of outputs\n",
    "    # Function Definition from Above:\n",
    "    #   fully_conn(x_tensor, num_outputs)\n",
    "    x_tensor = fully_conn(x_tensor, num_outputs_fully)\n",
    "    \n",
    "    # dropout\n",
    "    x_tensor = tf.nn.dropout(x_tensor, keep_prob)\n",
    "    \n",
    "    # TODO: Apply an Output Layer\n",
    "    #    Set this to the number of classes\n",
    "    # Function Definition from Above:\n",
    "    #   output(x_tensor, num_outputs)\n",
    "    x = output(x_tensor, num_outputs)\n",
    "    \n",
    "    \n",
    "    # TODO: return output\n",
    "    return x\n",
    "\n",
    "\n",
    "\"\"\"\n",
    "DON'T MODIFY ANYTHING IN THIS CELL THAT IS BELOW THIS LINE\n",
    "\"\"\"\n",
    "\n",
    "##############################\n",
    "## Build the Neural Network ##\n",
    "##############################\n",
    "\n",
    "# Remove previous weights, bias, inputs, etc..\n",
    "tf.reset_default_graph()\n",
    "\n",
    "# Inputs\n",
    "x = neural_net_image_input((32, 32, 3))\n",
    "y = neural_net_label_input(10)\n",
    "keep_prob = neural_net_keep_prob_input()\n",
    "\n",
    "# Model\n",
    "logits = conv_net(x, keep_prob)\n",
    "\n",
    "# Name logits Tensor, so that is can be loaded from disk after training\n",
    "logits = tf.identity(logits, name='logits')\n",
    "\n",
    "# Loss and Optimizer\n",
    "cost = tf.reduce_mean(tf.nn.softmax_cross_entropy_with_logits(logits=logits, labels=y))\n",
    "optimizer = tf.train.AdamOptimizer().minimize(cost)\n",
    "\n",
    "# Accuracy\n",
    "correct_pred = tf.equal(tf.argmax(logits, 1), tf.argmax(y, 1))\n",
    "accuracy = tf.reduce_mean(tf.cast(correct_pred, tf.float32), name='accuracy')\n",
    "\n",
    "tests.test_conv_net(conv_net)"
   ]
  },
  {
   "cell_type": "markdown",
   "metadata": {},
   "source": [
    "## Train the Neural Network\n",
    "### Single Optimization\n",
    "Implement the function `train_neural_network` to do a single optimization.  The optimization should use `optimizer` to optimize in `session` with a `feed_dict` of the following:\n",
    "* `x` for image input\n",
    "* `y` for labels\n",
    "* `keep_prob` for keep probability for dropout\n",
    "\n",
    "This function will be called for each batch, so `tf.global_variables_initializer()` has already been called.\n",
    "\n",
    "Note: Nothing needs to be returned. This function is only optimizing the neural network."
   ]
  },
  {
   "cell_type": "code",
   "execution_count": 13,
   "metadata": {},
   "outputs": [
    {
     "name": "stdout",
     "output_type": "stream",
     "text": [
      "Tests Passed\n"
     ]
    }
   ],
   "source": [
    "def train_neural_network(session, optimizer, keep_probability, feature_batch, label_batch):\n",
    "    \"\"\"\n",
    "    Optimize the session on a batch of images and labels\n",
    "    : session: Current TensorFlow session\n",
    "    : optimizer: TensorFlow optimizer function\n",
    "    : keep_probability: keep probability\n",
    "    : feature_batch: Batch of Numpy image data\n",
    "    : label_batch: Batch of Numpy label data\n",
    "    \"\"\"\n",
    "    # TODO: Implement Function\n",
    "    return session.run(optimizer, feed_dict={x:feature_batch, y:label_batch, keep_prob:keep_probability})\n",
    "\n",
    "\n",
    "\"\"\"\n",
    "DON'T MODIFY ANYTHING IN THIS CELL THAT IS BELOW THIS LINE\n",
    "\"\"\"\n",
    "tests.test_train_nn(train_neural_network)"
   ]
  },
  {
   "cell_type": "markdown",
   "metadata": {},
   "source": [
    "### Show Stats\n",
    "Implement the function `print_stats` to print loss and validation accuracy.  Use the global variables `valid_features` and `valid_labels` to calculate validation accuracy.  Use a keep probability of `1.0` to calculate the loss and validation accuracy."
   ]
  },
  {
   "cell_type": "code",
   "execution_count": 37,
   "metadata": {
    "collapsed": true
   },
   "outputs": [],
   "source": [
    "def print_stats(session, feature_batch, label_batch, cost, accuracy):\n",
    "    \"\"\"\n",
    "    Print information about loss and validation accuracy\n",
    "    : session: Current TensorFlow session\n",
    "    : feature_batch: Batch of Numpy image data\n",
    "    : label_batch: Batch of Numpy label data\n",
    "    : cost: TensorFlow cost function\n",
    "    : accuracy: TensorFlow accuracy function\n",
    "    \"\"\"\n",
    "    # TODO: Implement Function\n",
    "    loss = session.run(cost, feed_dict={ x: feature_batch,y: label_batch,keep_prob: 1.0})\n",
    "    acc = session.run(accuracy, feed_dict={x: valid_features,y: valid_labels,keep_prob: 1.0})\n",
    "    print('Loss: {0} Accuracy: {1}'.format(loss, acc))"
   ]
  },
  {
   "cell_type": "markdown",
   "metadata": {},
   "source": [
    "### Hyperparameters\n",
    "Tune the following parameters:\n",
    "* Set `epochs` to the number of iterations until the network stops learning or start overfitting\n",
    "* Set `batch_size` to the highest number that your machine has memory for.  Most people set them to common sizes of memory:\n",
    " * 64\n",
    " * 128\n",
    " * 256\n",
    " * ...\n",
    "* Set `keep_probability` to the probability of keeping a node using dropout"
   ]
  },
  {
   "cell_type": "code",
   "execution_count": 38,
   "metadata": {
    "collapsed": true
   },
   "outputs": [],
   "source": [
    "# TODO: Tune Parameters\n",
    "epochs = 33\n",
    "# using high numbers like batch_size = 8192, doesn't converge really well tho.\n",
    "batch_size = 512\n",
    "keep_probability = 0.5"
   ]
  },
  {
   "cell_type": "markdown",
   "metadata": {},
   "source": [
    "### Train on a Single CIFAR-10 Batch\n",
    "Instead of training the neural network on all the CIFAR-10 batches of data, let's use a single batch. This should save time while you iterate on the model to get a better accuracy.  Once the final validation accuracy is 50% or greater, run the model on all the data in the next section."
   ]
  },
  {
   "cell_type": "code",
   "execution_count": 39,
   "metadata": {},
   "outputs": [
    {
     "name": "stdout",
     "output_type": "stream",
     "text": [
      "Checking the Training on a Single Batch...\n",
      "Epoch  1, CIFAR-10 Batch 1:  Loss: 2.2023653984069824 Accuracy: 0.1891999989748001\n",
      "Epoch  2, CIFAR-10 Batch 1:  Loss: 2.038874864578247 Accuracy: 0.2603999972343445\n",
      "Epoch  3, CIFAR-10 Batch 1:  Loss: 1.9194599390029907 Accuracy: 0.32280001044273376\n",
      "Epoch  4, CIFAR-10 Batch 1:  Loss: 1.83551025390625 Accuracy: 0.34220001101493835\n",
      "Epoch  5, CIFAR-10 Batch 1:  Loss: 1.813270926475525 Accuracy: 0.34779998660087585\n",
      "Epoch  6, CIFAR-10 Batch 1:  Loss: 1.7613933086395264 Accuracy: 0.382999986410141\n",
      "Epoch  7, CIFAR-10 Batch 1:  Loss: 1.691746473312378 Accuracy: 0.3986000120639801\n",
      "Epoch  8, CIFAR-10 Batch 1:  Loss: 1.6398698091506958 Accuracy: 0.420199990272522\n",
      "Epoch  9, CIFAR-10 Batch 1:  Loss: 1.5805405378341675 Accuracy: 0.42480000853538513\n",
      "Epoch 10, CIFAR-10 Batch 1:  Loss: 1.5625158548355103 Accuracy: 0.43540000915527344\n",
      "Epoch 11, CIFAR-10 Batch 1:  Loss: 1.504858374595642 Accuracy: 0.44179999828338623\n",
      "Epoch 12, CIFAR-10 Batch 1:  Loss: 1.4896658658981323 Accuracy: 0.45339998602867126\n",
      "Epoch 13, CIFAR-10 Batch 1:  Loss: 1.470047950744629 Accuracy: 0.4472000002861023\n",
      "Epoch 14, CIFAR-10 Batch 1:  Loss: 1.4176485538482666 Accuracy: 0.46619999408721924\n",
      "Epoch 15, CIFAR-10 Batch 1:  Loss: 1.401445746421814 Accuracy: 0.4611999988555908\n",
      "Epoch 16, CIFAR-10 Batch 1:  Loss: 1.3600475788116455 Accuracy: 0.47099998593330383\n",
      "Epoch 17, CIFAR-10 Batch 1:  Loss: 1.3347468376159668 Accuracy: 0.4812000095844269\n",
      "Epoch 18, CIFAR-10 Batch 1:  Loss: 1.3093571662902832 Accuracy: 0.47920000553131104\n",
      "Epoch 19, CIFAR-10 Batch 1:  Loss: 1.2856389284133911 Accuracy: 0.48420000076293945\n",
      "Epoch 20, CIFAR-10 Batch 1:  Loss: 1.283726692199707 Accuracy: 0.477400004863739\n",
      "Epoch 21, CIFAR-10 Batch 1:  Loss: 1.236412525177002 Accuracy: 0.49239999055862427\n",
      "Epoch 22, CIFAR-10 Batch 1:  Loss: 1.1806377172470093 Accuracy: 0.4986000061035156\n",
      "Epoch 23, CIFAR-10 Batch 1:  Loss: 1.15666925907135 Accuracy: 0.503000020980835\n",
      "Epoch 24, CIFAR-10 Batch 1:  Loss: 1.1452323198318481 Accuracy: 0.5001999735832214\n",
      "Epoch 25, CIFAR-10 Batch 1:  Loss: 1.1741042137145996 Accuracy: 0.5008000135421753\n",
      "Epoch 26, CIFAR-10 Batch 1:  Loss: 1.1097383499145508 Accuracy: 0.504800021648407\n",
      "Epoch 27, CIFAR-10 Batch 1:  Loss: 1.0761409997940063 Accuracy: 0.5067999958992004\n",
      "Epoch 28, CIFAR-10 Batch 1:  Loss: 1.0764366388320923 Accuracy: 0.5116000175476074\n",
      "Epoch 29, CIFAR-10 Batch 1:  Loss: 1.0257790088653564 Accuracy: 0.5094000101089478\n",
      "Epoch 30, CIFAR-10 Batch 1:  Loss: 1.0544750690460205 Accuracy: 0.5072000026702881\n",
      "Epoch 31, CIFAR-10 Batch 1:  Loss: 0.9842574596405029 Accuracy: 0.5103999972343445\n",
      "Epoch 32, CIFAR-10 Batch 1:  Loss: 0.9769508838653564 Accuracy: 0.5175999999046326\n",
      "Epoch 33, CIFAR-10 Batch 1:  Loss: 0.9694021344184875 Accuracy: 0.5139999985694885\n"
     ]
    }
   ],
   "source": [
    "\"\"\"\n",
    "DON'T MODIFY ANYTHING IN THIS CELL\n",
    "\"\"\"\n",
    "print('Checking the Training on a Single Batch...')\n",
    "with tf.Session() as sess:\n",
    "    # Initializing the variables\n",
    "    sess.run(tf.global_variables_initializer())\n",
    "    \n",
    "    # Training cycle\n",
    "    for epoch in range(epochs):\n",
    "        batch_i = 1\n",
    "        for batch_features, batch_labels in helper.load_preprocess_training_batch(batch_i, batch_size):\n",
    "            train_neural_network(sess, optimizer, keep_probability, batch_features, batch_labels)\n",
    "        print('Epoch {:>2}, CIFAR-10 Batch {}:  '.format(epoch + 1, batch_i), end='')\n",
    "        print_stats(sess, batch_features, batch_labels, cost, accuracy)"
   ]
  },
  {
   "cell_type": "markdown",
   "metadata": {},
   "source": [
    "### Fully Train the Model\n",
    "Now that you got a good accuracy with a single CIFAR-10 batch, try it with all five batches."
   ]
  },
  {
   "cell_type": "code",
   "execution_count": 40,
   "metadata": {},
   "outputs": [
    {
     "name": "stdout",
     "output_type": "stream",
     "text": [
      "Training...\n",
      "Epoch  1, CIFAR-10 Batch 1:  Loss: 2.244182586669922 Accuracy: 0.21719999611377716\n",
      "Epoch  1, CIFAR-10 Batch 2:  Loss: 2.026522159576416 Accuracy: 0.24160000681877136\n",
      "Epoch  1, CIFAR-10 Batch 3:  Loss: 1.9457719326019287 Accuracy: 0.2831999957561493\n",
      "Epoch  1, CIFAR-10 Batch 4:  Loss: 1.8035492897033691 Accuracy: 0.3467999994754791\n",
      "Epoch  1, CIFAR-10 Batch 5:  Loss: 1.798130750656128 Accuracy: 0.3594000041484833\n",
      "Epoch  2, CIFAR-10 Batch 1:  Loss: 1.7572758197784424 Accuracy: 0.3912000060081482\n",
      "Epoch  2, CIFAR-10 Batch 2:  Loss: 1.668745517730713 Accuracy: 0.41359999775886536\n",
      "Epoch  2, CIFAR-10 Batch 3:  Loss: 1.58460533618927 Accuracy: 0.42320001125335693\n",
      "Epoch  2, CIFAR-10 Batch 4:  Loss: 1.5417509078979492 Accuracy: 0.430400013923645\n",
      "Epoch  2, CIFAR-10 Batch 5:  Loss: 1.6082046031951904 Accuracy: 0.43380001187324524\n",
      "Epoch  3, CIFAR-10 Batch 1:  Loss: 1.6149654388427734 Accuracy: 0.4458000063896179\n",
      "Epoch  3, CIFAR-10 Batch 2:  Loss: 1.5670663118362427 Accuracy: 0.4496000111103058\n",
      "Epoch  3, CIFAR-10 Batch 3:  Loss: 1.4827320575714111 Accuracy: 0.44699999690055847\n",
      "Epoch  3, CIFAR-10 Batch 4:  Loss: 1.4508066177368164 Accuracy: 0.45899999141693115\n",
      "Epoch  3, CIFAR-10 Batch 5:  Loss: 1.4926737546920776 Accuracy: 0.45899999141693115\n",
      "Epoch  4, CIFAR-10 Batch 1:  Loss: 1.54774010181427 Accuracy: 0.4586000144481659\n",
      "Epoch  4, CIFAR-10 Batch 2:  Loss: 1.4999428987503052 Accuracy: 0.4652000069618225\n",
      "Epoch  4, CIFAR-10 Batch 3:  Loss: 1.403080940246582 Accuracy: 0.4715999960899353\n",
      "Epoch  4, CIFAR-10 Batch 4:  Loss: 1.3900188207626343 Accuracy: 0.4860000014305115\n",
      "Epoch  4, CIFAR-10 Batch 5:  Loss: 1.4306999444961548 Accuracy: 0.48579999804496765\n",
      "Epoch  5, CIFAR-10 Batch 1:  Loss: 1.4509665966033936 Accuracy: 0.49720001220703125\n",
      "Epoch  5, CIFAR-10 Batch 2:  Loss: 1.4254353046417236 Accuracy: 0.49880000948905945\n",
      "Epoch  5, CIFAR-10 Batch 3:  Loss: 1.318792700767517 Accuracy: 0.5009999871253967\n",
      "Epoch  5, CIFAR-10 Batch 4:  Loss: 1.3100337982177734 Accuracy: 0.49380001425743103\n",
      "Epoch  5, CIFAR-10 Batch 5:  Loss: 1.3434911966323853 Accuracy: 0.5094000101089478\n",
      "Epoch  6, CIFAR-10 Batch 1:  Loss: 1.4048572778701782 Accuracy: 0.5044000148773193\n",
      "Epoch  6, CIFAR-10 Batch 2:  Loss: 1.3707343339920044 Accuracy: 0.5130000114440918\n",
      "Epoch  6, CIFAR-10 Batch 3:  Loss: 1.3106802701950073 Accuracy: 0.5016000270843506\n",
      "Epoch  6, CIFAR-10 Batch 4:  Loss: 1.2630726099014282 Accuracy: 0.5152000188827515\n",
      "Epoch  6, CIFAR-10 Batch 5:  Loss: 1.3223927021026611 Accuracy: 0.4997999966144562\n",
      "Epoch  7, CIFAR-10 Batch 1:  Loss: 1.4002431631088257 Accuracy: 0.501800000667572\n",
      "Epoch  7, CIFAR-10 Batch 2:  Loss: 1.327410101890564 Accuracy: 0.5217999815940857\n",
      "Epoch  7, CIFAR-10 Batch 3:  Loss: 1.250198483467102 Accuracy: 0.5166000127792358\n",
      "Epoch  7, CIFAR-10 Batch 4:  Loss: 1.2317063808441162 Accuracy: 0.5199999809265137\n",
      "Epoch  7, CIFAR-10 Batch 5:  Loss: 1.2595280408859253 Accuracy: 0.5234000086784363\n",
      "Epoch  8, CIFAR-10 Batch 1:  Loss: 1.3256092071533203 Accuracy: 0.5199999809265137\n",
      "Epoch  8, CIFAR-10 Batch 2:  Loss: 1.2569530010223389 Accuracy: 0.5270000100135803\n",
      "Epoch  8, CIFAR-10 Batch 3:  Loss: 1.2049126625061035 Accuracy: 0.5166000127792358\n",
      "Epoch  8, CIFAR-10 Batch 4:  Loss: 1.1715232133865356 Accuracy: 0.5267999768257141\n",
      "Epoch  8, CIFAR-10 Batch 5:  Loss: 1.2657108306884766 Accuracy: 0.5212000012397766\n",
      "Epoch  9, CIFAR-10 Batch 1:  Loss: 1.310350775718689 Accuracy: 0.5210000276565552\n",
      "Epoch  9, CIFAR-10 Batch 2:  Loss: 1.2211024761199951 Accuracy: 0.5404000282287598\n",
      "Epoch  9, CIFAR-10 Batch 3:  Loss: 1.1971043348312378 Accuracy: 0.5238000154495239\n",
      "Epoch  9, CIFAR-10 Batch 4:  Loss: 1.1591646671295166 Accuracy: 0.5364000201225281\n",
      "Epoch  9, CIFAR-10 Batch 5:  Loss: 1.2010254859924316 Accuracy: 0.5404000282287598\n",
      "Epoch 10, CIFAR-10 Batch 1:  Loss: 1.2608178853988647 Accuracy: 0.534600019454956\n",
      "Epoch 10, CIFAR-10 Batch 2:  Loss: 1.2285938262939453 Accuracy: 0.5307999849319458\n",
      "Epoch 10, CIFAR-10 Batch 3:  Loss: 1.1489108800888062 Accuracy: 0.5350000262260437\n",
      "Epoch 10, CIFAR-10 Batch 4:  Loss: 1.127642273902893 Accuracy: 0.5436000227928162\n",
      "Epoch 10, CIFAR-10 Batch 5:  Loss: 1.170675277709961 Accuracy: 0.557200014591217\n",
      "Epoch 11, CIFAR-10 Batch 1:  Loss: 1.2136898040771484 Accuracy: 0.5461999773979187\n",
      "Epoch 11, CIFAR-10 Batch 2:  Loss: 1.1669139862060547 Accuracy: 0.5461999773979187\n",
      "Epoch 11, CIFAR-10 Batch 3:  Loss: 1.1776028871536255 Accuracy: 0.5293999910354614\n",
      "Epoch 11, CIFAR-10 Batch 4:  Loss: 1.114377737045288 Accuracy: 0.5529999732971191\n",
      "Epoch 11, CIFAR-10 Batch 5:  Loss: 1.1683690547943115 Accuracy: 0.5544000267982483\n",
      "Epoch 12, CIFAR-10 Batch 1:  Loss: 1.2162193059921265 Accuracy: 0.5526000261306763\n",
      "Epoch 12, CIFAR-10 Batch 2:  Loss: 1.159521460533142 Accuracy: 0.5393999814987183\n",
      "Epoch 12, CIFAR-10 Batch 3:  Loss: 1.146602749824524 Accuracy: 0.5401999950408936\n",
      "Epoch 12, CIFAR-10 Batch 4:  Loss: 1.0862261056900024 Accuracy: 0.5511999726295471\n",
      "Epoch 12, CIFAR-10 Batch 5:  Loss: 1.1282336711883545 Accuracy: 0.5508000254631042\n",
      "Epoch 13, CIFAR-10 Batch 1:  Loss: 1.1998264789581299 Accuracy: 0.5569999814033508\n",
      "Epoch 13, CIFAR-10 Batch 2:  Loss: 1.1407063007354736 Accuracy: 0.5532000064849854\n",
      "Epoch 13, CIFAR-10 Batch 3:  Loss: 1.1310241222381592 Accuracy: 0.5522000193595886\n",
      "Epoch 13, CIFAR-10 Batch 4:  Loss: 1.0256526470184326 Accuracy: 0.5637999773025513\n",
      "Epoch 13, CIFAR-10 Batch 5:  Loss: 1.0917704105377197 Accuracy: 0.5559999942779541\n",
      "Epoch 14, CIFAR-10 Batch 1:  Loss: 1.1482545137405396 Accuracy: 0.5641999840736389\n",
      "Epoch 14, CIFAR-10 Batch 2:  Loss: 1.1296190023422241 Accuracy: 0.550599992275238\n",
      "Epoch 14, CIFAR-10 Batch 3:  Loss: 1.0904028415679932 Accuracy: 0.5546000003814697\n",
      "Epoch 14, CIFAR-10 Batch 4:  Loss: 1.0269893407821655 Accuracy: 0.5654000043869019\n",
      "Epoch 14, CIFAR-10 Batch 5:  Loss: 1.0756672620773315 Accuracy: 0.5619999766349792\n",
      "Epoch 15, CIFAR-10 Batch 1:  Loss: 1.1430096626281738 Accuracy: 0.5680000185966492\n",
      "Epoch 15, CIFAR-10 Batch 2:  Loss: 1.0702576637268066 Accuracy: 0.5627999901771545\n",
      "Epoch 15, CIFAR-10 Batch 3:  Loss: 1.0617198944091797 Accuracy: 0.5655999779701233\n",
      "Epoch 15, CIFAR-10 Batch 4:  Loss: 1.0149210691452026 Accuracy: 0.5645999908447266\n",
      "Epoch 15, CIFAR-10 Batch 5:  Loss: 1.0877552032470703 Accuracy: 0.553600013256073\n",
      "Epoch 16, CIFAR-10 Batch 1:  Loss: 1.1207985877990723 Accuracy: 0.5644000172615051\n",
      "Epoch 16, CIFAR-10 Batch 2:  Loss: 1.066781759262085 Accuracy: 0.5583999752998352\n",
      "Epoch 16, CIFAR-10 Batch 3:  Loss: 1.0299814939498901 Accuracy: 0.5651999711990356\n",
      "Epoch 16, CIFAR-10 Batch 4:  Loss: 1.020809531211853 Accuracy: 0.5559999942779541\n",
      "Epoch 16, CIFAR-10 Batch 5:  Loss: 1.0726470947265625 Accuracy: 0.548799991607666\n",
      "Epoch 17, CIFAR-10 Batch 1:  Loss: 1.1294877529144287 Accuracy: 0.5587999820709229\n",
      "Epoch 17, CIFAR-10 Batch 2:  Loss: 1.0498591661453247 Accuracy: 0.5685999989509583\n",
      "Epoch 17, CIFAR-10 Batch 3:  Loss: 1.0445929765701294 Accuracy: 0.5673999786376953\n",
      "Epoch 17, CIFAR-10 Batch 4:  Loss: 1.0263652801513672 Accuracy: 0.5591999888420105\n",
      "Epoch 17, CIFAR-10 Batch 5:  Loss: 1.054330825805664 Accuracy: 0.5636000037193298\n",
      "Epoch 18, CIFAR-10 Batch 1:  Loss: 1.1351776123046875 Accuracy: 0.5631999969482422\n",
      "Epoch 18, CIFAR-10 Batch 2:  Loss: 1.0372852087020874 Accuracy: 0.5568000078201294\n",
      "Epoch 18, CIFAR-10 Batch 3:  Loss: 1.040837287902832 Accuracy: 0.5583999752998352\n",
      "Epoch 18, CIFAR-10 Batch 4:  Loss: 1.0080561637878418 Accuracy: 0.5613999962806702\n",
      "Epoch 18, CIFAR-10 Batch 5:  Loss: 1.016566276550293 Accuracy: 0.5748000144958496\n",
      "Epoch 19, CIFAR-10 Batch 1:  Loss: 1.0890332460403442 Accuracy: 0.5691999793052673\n",
      "Epoch 19, CIFAR-10 Batch 2:  Loss: 1.0182048082351685 Accuracy: 0.5813999772071838\n",
      "Epoch 19, CIFAR-10 Batch 3:  Loss: 1.0126721858978271 Accuracy: 0.5712000131607056\n",
      "Epoch 19, CIFAR-10 Batch 4:  Loss: 0.9744375944137573 Accuracy: 0.5745999813079834\n",
      "Epoch 19, CIFAR-10 Batch 5:  Loss: 0.9902425408363342 Accuracy: 0.5723999738693237\n",
      "Epoch 20, CIFAR-10 Batch 1:  Loss: 1.0797579288482666 Accuracy: 0.569599986076355\n",
      "Epoch 20, CIFAR-10 Batch 2:  Loss: 1.023768663406372 Accuracy: 0.5794000029563904\n",
      "Epoch 20, CIFAR-10 Batch 3:  Loss: 0.9840902090072632 Accuracy: 0.574999988079071\n",
      "Epoch 20, CIFAR-10 Batch 4:  Loss: 0.964913010597229 Accuracy: 0.576200008392334\n"
     ]
    },
    {
     "name": "stdout",
     "output_type": "stream",
     "text": [
      "Epoch 20, CIFAR-10 Batch 5:  Loss: 0.963487982749939 Accuracy: 0.576200008392334\n",
      "Epoch 21, CIFAR-10 Batch 1:  Loss: 1.0803272724151611 Accuracy: 0.5735999941825867\n",
      "Epoch 21, CIFAR-10 Batch 2:  Loss: 1.0362000465393066 Accuracy: 0.5820000171661377\n",
      "Epoch 21, CIFAR-10 Batch 3:  Loss: 1.0306755304336548 Accuracy: 0.571399986743927\n",
      "Epoch 21, CIFAR-10 Batch 4:  Loss: 0.9526443481445312 Accuracy: 0.5753999948501587\n",
      "Epoch 21, CIFAR-10 Batch 5:  Loss: 0.9648003578186035 Accuracy: 0.5726000070571899\n",
      "Epoch 22, CIFAR-10 Batch 1:  Loss: 1.0424121618270874 Accuracy: 0.5795999765396118\n",
      "Epoch 22, CIFAR-10 Batch 2:  Loss: 0.9696795344352722 Accuracy: 0.5860000252723694\n",
      "Epoch 22, CIFAR-10 Batch 3:  Loss: 0.9683037996292114 Accuracy: 0.5741999745368958\n",
      "Epoch 22, CIFAR-10 Batch 4:  Loss: 0.9435170888900757 Accuracy: 0.5845999717712402\n",
      "Epoch 22, CIFAR-10 Batch 5:  Loss: 0.9865013360977173 Accuracy: 0.5703999996185303\n",
      "Epoch 23, CIFAR-10 Batch 1:  Loss: 1.0135260820388794 Accuracy: 0.5853999853134155\n",
      "Epoch 23, CIFAR-10 Batch 2:  Loss: 1.0175933837890625 Accuracy: 0.5756000280380249\n",
      "Epoch 23, CIFAR-10 Batch 3:  Loss: 0.944893479347229 Accuracy: 0.5825999975204468\n",
      "Epoch 23, CIFAR-10 Batch 4:  Loss: 0.8942456841468811 Accuracy: 0.5849999785423279\n",
      "Epoch 23, CIFAR-10 Batch 5:  Loss: 0.9264194369316101 Accuracy: 0.5809999704360962\n",
      "Epoch 24, CIFAR-10 Batch 1:  Loss: 0.9910944104194641 Accuracy: 0.5817999839782715\n",
      "Epoch 24, CIFAR-10 Batch 2:  Loss: 0.9507629871368408 Accuracy: 0.5906000137329102\n",
      "Epoch 24, CIFAR-10 Batch 3:  Loss: 0.974077582359314 Accuracy: 0.5813999772071838\n",
      "Epoch 24, CIFAR-10 Batch 4:  Loss: 0.8935442566871643 Accuracy: 0.5838000178337097\n",
      "Epoch 24, CIFAR-10 Batch 5:  Loss: 0.9242005348205566 Accuracy: 0.5753999948501587\n",
      "Epoch 25, CIFAR-10 Batch 1:  Loss: 1.011527419090271 Accuracy: 0.5812000036239624\n",
      "Epoch 25, CIFAR-10 Batch 2:  Loss: 0.9362183809280396 Accuracy: 0.5917999744415283\n",
      "Epoch 25, CIFAR-10 Batch 3:  Loss: 0.9457772970199585 Accuracy: 0.5845999717712402\n",
      "Epoch 25, CIFAR-10 Batch 4:  Loss: 0.8739652633666992 Accuracy: 0.5956000089645386\n",
      "Epoch 25, CIFAR-10 Batch 5:  Loss: 0.8858780860900879 Accuracy: 0.5821999907493591\n",
      "Epoch 26, CIFAR-10 Batch 1:  Loss: 1.0037319660186768 Accuracy: 0.5834000110626221\n",
      "Epoch 26, CIFAR-10 Batch 2:  Loss: 0.9674333930015564 Accuracy: 0.5893999934196472\n",
      "Epoch 26, CIFAR-10 Batch 3:  Loss: 0.9624793529510498 Accuracy: 0.5896000266075134\n",
      "Epoch 26, CIFAR-10 Batch 4:  Loss: 0.9072696566581726 Accuracy: 0.5806000232696533\n",
      "Epoch 26, CIFAR-10 Batch 5:  Loss: 0.9069075584411621 Accuracy: 0.5722000002861023\n",
      "Epoch 27, CIFAR-10 Batch 1:  Loss: 0.9533849954605103 Accuracy: 0.5861999988555908\n",
      "Epoch 27, CIFAR-10 Batch 2:  Loss: 0.968632161617279 Accuracy: 0.5867999792098999\n",
      "Epoch 27, CIFAR-10 Batch 3:  Loss: 0.9291219115257263 Accuracy: 0.5960000157356262\n",
      "Epoch 27, CIFAR-10 Batch 4:  Loss: 0.8760008811950684 Accuracy: 0.590399980545044\n",
      "Epoch 27, CIFAR-10 Batch 5:  Loss: 0.8848232626914978 Accuracy: 0.5870000123977661\n",
      "Epoch 28, CIFAR-10 Batch 1:  Loss: 0.9315342307090759 Accuracy: 0.5907999873161316\n",
      "Epoch 28, CIFAR-10 Batch 2:  Loss: 0.9271283745765686 Accuracy: 0.5911999940872192\n",
      "Epoch 28, CIFAR-10 Batch 3:  Loss: 0.8939658403396606 Accuracy: 0.5925999879837036\n",
      "Epoch 28, CIFAR-10 Batch 4:  Loss: 0.8486536145210266 Accuracy: 0.5896000266075134\n",
      "Epoch 28, CIFAR-10 Batch 5:  Loss: 0.8990684747695923 Accuracy: 0.5776000022888184\n",
      "Epoch 29, CIFAR-10 Batch 1:  Loss: 0.9564115405082703 Accuracy: 0.5838000178337097\n",
      "Epoch 29, CIFAR-10 Batch 2:  Loss: 0.8793991804122925 Accuracy: 0.5971999764442444\n",
      "Epoch 29, CIFAR-10 Batch 3:  Loss: 0.895682692527771 Accuracy: 0.5929999947547913\n",
      "Epoch 29, CIFAR-10 Batch 4:  Loss: 0.8409151434898376 Accuracy: 0.5907999873161316\n",
      "Epoch 29, CIFAR-10 Batch 5:  Loss: 0.8510873913764954 Accuracy: 0.5839999914169312\n",
      "Epoch 30, CIFAR-10 Batch 1:  Loss: 0.8891052007675171 Accuracy: 0.5960000157356262\n",
      "Epoch 30, CIFAR-10 Batch 2:  Loss: 0.8770079612731934 Accuracy: 0.5935999751091003\n",
      "Epoch 30, CIFAR-10 Batch 3:  Loss: 0.9082672595977783 Accuracy: 0.5861999988555908\n",
      "Epoch 30, CIFAR-10 Batch 4:  Loss: 0.8312896490097046 Accuracy: 0.59579998254776\n",
      "Epoch 30, CIFAR-10 Batch 5:  Loss: 0.854781448841095 Accuracy: 0.5881999731063843\n",
      "Epoch 31, CIFAR-10 Batch 1:  Loss: 0.9290251731872559 Accuracy: 0.5932000279426575\n",
      "Epoch 31, CIFAR-10 Batch 2:  Loss: 0.8917959928512573 Accuracy: 0.5924000144004822\n",
      "Epoch 31, CIFAR-10 Batch 3:  Loss: 0.9284849166870117 Accuracy: 0.5849999785423279\n",
      "Epoch 31, CIFAR-10 Batch 4:  Loss: 0.8237988948822021 Accuracy: 0.6015999913215637\n",
      "Epoch 31, CIFAR-10 Batch 5:  Loss: 0.8474485278129578 Accuracy: 0.5813999772071838\n",
      "Epoch 32, CIFAR-10 Batch 1:  Loss: 0.9518988132476807 Accuracy: 0.5741999745368958\n",
      "Epoch 32, CIFAR-10 Batch 2:  Loss: 0.8907977938652039 Accuracy: 0.5794000029563904\n",
      "Epoch 32, CIFAR-10 Batch 3:  Loss: 0.9269804954528809 Accuracy: 0.5849999785423279\n",
      "Epoch 32, CIFAR-10 Batch 4:  Loss: 0.795823335647583 Accuracy: 0.5983999967575073\n",
      "Epoch 32, CIFAR-10 Batch 5:  Loss: 0.8112455010414124 Accuracy: 0.5910000205039978\n",
      "Epoch 33, CIFAR-10 Batch 1:  Loss: 0.9334246516227722 Accuracy: 0.5817999839782715\n",
      "Epoch 33, CIFAR-10 Batch 2:  Loss: 0.8777219653129578 Accuracy: 0.5834000110626221\n",
      "Epoch 33, CIFAR-10 Batch 3:  Loss: 0.9219180941581726 Accuracy: 0.5867999792098999\n",
      "Epoch 33, CIFAR-10 Batch 4:  Loss: 0.8038526773452759 Accuracy: 0.5961999893188477\n",
      "Epoch 33, CIFAR-10 Batch 5:  Loss: 0.7831881046295166 Accuracy: 0.597000002861023\n"
     ]
    }
   ],
   "source": [
    "\"\"\"\n",
    "DON'T MODIFY ANYTHING IN THIS CELL\n",
    "\"\"\"\n",
    "save_model_path = './image_classification'\n",
    "\n",
    "print('Training...')\n",
    "with tf.Session() as sess:\n",
    "    # Initializing the variables\n",
    "    sess.run(tf.global_variables_initializer())\n",
    "    \n",
    "    # Training cycle\n",
    "    for epoch in range(epochs):\n",
    "        # Loop over all batches\n",
    "        n_batches = 5\n",
    "        for batch_i in range(1, n_batches + 1):\n",
    "            for batch_features, batch_labels in helper.load_preprocess_training_batch(batch_i, batch_size):\n",
    "                train_neural_network(sess, optimizer, keep_probability, batch_features, batch_labels)\n",
    "            print('Epoch {:>2}, CIFAR-10 Batch {}:  '.format(epoch + 1, batch_i), end='')\n",
    "            print_stats(sess, batch_features, batch_labels, cost, accuracy)\n",
    "            \n",
    "    # Save Model\n",
    "    saver = tf.train.Saver()\n",
    "    save_path = saver.save(sess, save_model_path)"
   ]
  },
  {
   "cell_type": "markdown",
   "metadata": {},
   "source": [
    "# Checkpoint\n",
    "The model has been saved to disk.\n",
    "## Test Model\n",
    "Test your model against the test dataset.  This will be your final accuracy. You should have an accuracy greater than 50%. If you don't, keep tweaking the model architecture and parameters."
   ]
  },
  {
   "cell_type": "code",
   "execution_count": 41,
   "metadata": {},
   "outputs": [
    {
     "name": "stdout",
     "output_type": "stream",
     "text": [
      "INFO:tensorflow:Restoring parameters from ./image_classification\n",
      "Testing Accuracy: 0.6049172788858413\n",
      "\n"
     ]
    },
    {
     "data": {
      "image/png": "[encoded data removed]",
      "text/plain": [
       "<matplotlib.figure.Figure at 0x7faf5f21b240>"
      ]
     },
     "metadata": {
      "image/png": {
       "height": 319,
       "width": 355
      }
     },
     "output_type": "display_data"
    }
   ],
   "source": [
    "\"\"\"\n",
    "DON'T MODIFY ANYTHING IN THIS CELL\n",
    "\"\"\"\n",
    "%matplotlib inline\n",
    "%config InlineBackend.figure_format = 'retina'\n",
    "\n",
    "import tensorflow as tf\n",
    "import pickle\n",
    "import helper\n",
    "import random\n",
    "\n",
    "# Set batch size if not already set\n",
    "try:\n",
    "    if batch_size:\n",
    "        pass\n",
    "except NameError:\n",
    "    batch_size = 64\n",
    "\n",
    "save_model_path = './image_classification'\n",
    "n_samples = 4\n",
    "top_n_predictions = 3\n",
    "\n",
    "def test_model():\n",
    "    \"\"\"\n",
    "    Test the saved model against the test dataset\n",
    "    \"\"\"\n",
    "\n",
    "    test_features, test_labels = pickle.load(open('preprocess_test.p', mode='rb'))\n",
    "    loaded_graph = tf.Graph()\n",
    "\n",
    "    with tf.Session(graph=loaded_graph) as sess:\n",
    "        # Load model\n",
    "        loader = tf.train.import_meta_graph(save_model_path + '.meta')\n",
    "        loader.restore(sess, save_model_path)\n",
    "\n",
    "        # Get Tensors from loaded model\n",
    "        loaded_x = loaded_graph.get_tensor_by_name('x:0')\n",
    "        loaded_y = loaded_graph.get_tensor_by_name('y:0')\n",
    "        loaded_keep_prob = loaded_graph.get_tensor_by_name('keep_prob:0')\n",
    "        loaded_logits = loaded_graph.get_tensor_by_name('logits:0')\n",
    "        loaded_acc = loaded_graph.get_tensor_by_name('accuracy:0')\n",
    "        \n",
    "        # Get accuracy in batches for memory limitations\n",
    "        test_batch_acc_total = 0\n",
    "        test_batch_count = 0\n",
    "        \n",
    "        for test_feature_batch, test_label_batch in helper.batch_features_labels(test_features, test_labels, batch_size):\n",
    "            test_batch_acc_total += sess.run(\n",
    "                loaded_acc,\n",
    "                feed_dict={loaded_x: test_feature_batch, loaded_y: test_label_batch, loaded_keep_prob: 1.0})\n",
    "            test_batch_count += 1\n",
    "\n",
    "        print('Testing Accuracy: {}\\n'.format(test_batch_acc_total/test_batch_count))\n",
    "\n",
    "        # Print Random Samples\n",
    "        random_test_features, random_test_labels = tuple(zip(*random.sample(list(zip(test_features, test_labels)), n_samples)))\n",
    "        random_test_predictions = sess.run(\n",
    "            tf.nn.top_k(tf.nn.softmax(loaded_logits), top_n_predictions),\n",
    "            feed_dict={loaded_x: random_test_features, loaded_y: random_test_labels, loaded_keep_prob: 1.0})\n",
    "        helper.display_image_predictions(random_test_features, random_test_labels, random_test_predictions)\n",
    "\n",
    "\n",
    "test_model()"
   ]
  },
  {
   "cell_type": "markdown",
   "metadata": {},
   "source": [
    "## Why 50-80% Accuracy?\n",
    "You might be wondering why you can't get an accuracy any higher. First things first, 50% isn't bad for a simple CNN.  Pure guessing would get you 10% accuracy. However, you might notice people are getting scores [well above 80%](http://rodrigob.github.io/are_we_there_yet/build/classification_datasets_results.html#43494641522d3130).  That's because we haven't taught you all there is to know about neural networks. We still need to cover a few more techniques.\n",
    "## Submitting This Project\n",
    "When submitting this project, make sure to run all the cells before saving the notebook.  Save the notebook file as \"dlnd_image_classification.ipynb\" and save it as a HTML file under \"File\" -> \"Download as\".  Include the \"helper.py\" and \"problem_unittests.py\" files in your submission."
   ]
  }
 ],
 "metadata": {
  "kernelspec": {
   "display_name": "Python 3",
   "language": "python",
   "name": "python3"
  },
  "language_info": {
   "codemirror_mode": {
    "name": "ipython",
    "version": 3
   },
   "file_extension": ".py",
   "mimetype": "text/x-python",
   "name": "python",
   "nbconvert_exporter": "python",
   "pygments_lexer": "ipython3",
   "version": "3.5.3"
  }
 },
 "nbformat": 4,
 "nbformat_minor": 1
}
